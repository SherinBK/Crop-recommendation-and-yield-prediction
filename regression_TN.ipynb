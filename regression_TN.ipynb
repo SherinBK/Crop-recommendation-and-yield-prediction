{
 "cells": [
  {
   "cell_type": "code",
   "execution_count": 3,
   "id": "e1a3ba54",
   "metadata": {},
   "outputs": [],
   "source": [
    "#Import Necessary Libraries"
   ]
  },
  {
   "cell_type": "code",
   "execution_count": 4,
   "id": "8cd32b6f",
   "metadata": {},
   "outputs": [],
   "source": [
    "import pandas as pd\n",
    "import numpy as np\n",
    "import matplotlib.pyplot as plt"
   ]
  },
  {
   "cell_type": "code",
   "execution_count": 5,
   "id": "fdad1fdc",
   "metadata": {},
   "outputs": [],
   "source": [
    "#Read The dataset using pandas"
   ]
  },
  {
   "cell_type": "code",
   "execution_count": 6,
   "id": "5d1c653e",
   "metadata": {},
   "outputs": [],
   "source": [
    "dataset=pd.read_csv(\"C:\\\\Users\\\\User\\\\Documents\\\\TamilNadu Crop Yield Prediction.csv\")"
   ]
  },
  {
   "cell_type": "code",
   "execution_count": 7,
   "id": "59403c51",
   "metadata": {},
   "outputs": [
    {
     "data": {
      "text/html": [
       "<div>\n",
       "<style scoped>\n",
       "    .dataframe tbody tr th:only-of-type {\n",
       "        vertical-align: middle;\n",
       "    }\n",
       "\n",
       "    .dataframe tbody tr th {\n",
       "        vertical-align: top;\n",
       "    }\n",
       "\n",
       "    .dataframe thead th {\n",
       "        text-align: right;\n",
       "    }\n",
       "</style>\n",
       "<table border=\"1\" class=\"dataframe\">\n",
       "  <thead>\n",
       "    <tr style=\"text-align: right;\">\n",
       "      <th></th>\n",
       "      <th>State_Name</th>\n",
       "      <th>District_Name</th>\n",
       "      <th>Crop_Year</th>\n",
       "      <th>Season</th>\n",
       "      <th>Crop</th>\n",
       "      <th>Area</th>\n",
       "      <th>Production</th>\n",
       "    </tr>\n",
       "  </thead>\n",
       "  <tbody>\n",
       "    <tr>\n",
       "      <th>0</th>\n",
       "      <td>Tamil Nadu</td>\n",
       "      <td>ARIYALUR</td>\n",
       "      <td>2008</td>\n",
       "      <td>Kharif</td>\n",
       "      <td>Rice</td>\n",
       "      <td>24574</td>\n",
       "      <td>NaN</td>\n",
       "    </tr>\n",
       "    <tr>\n",
       "      <th>1</th>\n",
       "      <td>Tamil Nadu</td>\n",
       "      <td>ARIYALUR</td>\n",
       "      <td>2008</td>\n",
       "      <td>Whole Year</td>\n",
       "      <td>Arhar/Tur</td>\n",
       "      <td>209</td>\n",
       "      <td>NaN</td>\n",
       "    </tr>\n",
       "    <tr>\n",
       "      <th>2</th>\n",
       "      <td>Tamil Nadu</td>\n",
       "      <td>ARIYALUR</td>\n",
       "      <td>2008</td>\n",
       "      <td>Whole Year</td>\n",
       "      <td>Bajra</td>\n",
       "      <td>565</td>\n",
       "      <td>NaN</td>\n",
       "    </tr>\n",
       "    <tr>\n",
       "      <th>3</th>\n",
       "      <td>Tamil Nadu</td>\n",
       "      <td>ARIYALUR</td>\n",
       "      <td>2008</td>\n",
       "      <td>Whole Year</td>\n",
       "      <td>Banana</td>\n",
       "      <td>190</td>\n",
       "      <td>NaN</td>\n",
       "    </tr>\n",
       "    <tr>\n",
       "      <th>4</th>\n",
       "      <td>Tamil Nadu</td>\n",
       "      <td>ARIYALUR</td>\n",
       "      <td>2008</td>\n",
       "      <td>Whole Year</td>\n",
       "      <td>Cashewnut</td>\n",
       "      <td>31113</td>\n",
       "      <td>NaN</td>\n",
       "    </tr>\n",
       "    <tr>\n",
       "      <th>...</th>\n",
       "      <td>...</td>\n",
       "      <td>...</td>\n",
       "      <td>...</td>\n",
       "      <td>...</td>\n",
       "      <td>...</td>\n",
       "      <td>...</td>\n",
       "      <td>...</td>\n",
       "    </tr>\n",
       "    <tr>\n",
       "      <th>13522</th>\n",
       "      <td>Tamil Nadu</td>\n",
       "      <td>VIRUDHUNAGAR</td>\n",
       "      <td>2013</td>\n",
       "      <td>Whole Year</td>\n",
       "      <td>Small millets</td>\n",
       "      <td>1187</td>\n",
       "      <td>676.0</td>\n",
       "    </tr>\n",
       "    <tr>\n",
       "      <th>13523</th>\n",
       "      <td>Tamil Nadu</td>\n",
       "      <td>VIRUDHUNAGAR</td>\n",
       "      <td>2013</td>\n",
       "      <td>Whole Year</td>\n",
       "      <td>Sugarcane</td>\n",
       "      <td>2917</td>\n",
       "      <td>296017.0</td>\n",
       "    </tr>\n",
       "    <tr>\n",
       "      <th>13524</th>\n",
       "      <td>Tamil Nadu</td>\n",
       "      <td>VIRUDHUNAGAR</td>\n",
       "      <td>2013</td>\n",
       "      <td>Whole Year</td>\n",
       "      <td>Sweet potato</td>\n",
       "      <td>4</td>\n",
       "      <td>84.0</td>\n",
       "    </tr>\n",
       "    <tr>\n",
       "      <th>13525</th>\n",
       "      <td>Tamil Nadu</td>\n",
       "      <td>VIRUDHUNAGAR</td>\n",
       "      <td>2013</td>\n",
       "      <td>Whole Year</td>\n",
       "      <td>Tapioca</td>\n",
       "      <td>4</td>\n",
       "      <td>120.0</td>\n",
       "    </tr>\n",
       "    <tr>\n",
       "      <th>13526</th>\n",
       "      <td>Tamil Nadu</td>\n",
       "      <td>VIRUDHUNAGAR</td>\n",
       "      <td>2013</td>\n",
       "      <td>Whole Year</td>\n",
       "      <td>Turmeric</td>\n",
       "      <td>4</td>\n",
       "      <td>15.0</td>\n",
       "    </tr>\n",
       "  </tbody>\n",
       "</table>\n",
       "<p>13527 rows × 7 columns</p>\n",
       "</div>"
      ],
      "text/plain": [
       "       State_Name District_Name  Crop_Year       Season           Crop   Area  \\\n",
       "0      Tamil Nadu      ARIYALUR       2008  Kharif                Rice  24574   \n",
       "1      Tamil Nadu      ARIYALUR       2008  Whole Year       Arhar/Tur    209   \n",
       "2      Tamil Nadu      ARIYALUR       2008  Whole Year           Bajra    565   \n",
       "3      Tamil Nadu      ARIYALUR       2008  Whole Year          Banana    190   \n",
       "4      Tamil Nadu      ARIYALUR       2008  Whole Year       Cashewnut  31113   \n",
       "...           ...           ...        ...          ...            ...    ...   \n",
       "13522  Tamil Nadu  VIRUDHUNAGAR       2013  Whole Year   Small millets   1187   \n",
       "13523  Tamil Nadu  VIRUDHUNAGAR       2013  Whole Year       Sugarcane   2917   \n",
       "13524  Tamil Nadu  VIRUDHUNAGAR       2013  Whole Year    Sweet potato      4   \n",
       "13525  Tamil Nadu  VIRUDHUNAGAR       2013  Whole Year         Tapioca      4   \n",
       "13526  Tamil Nadu  VIRUDHUNAGAR       2013  Whole Year        Turmeric      4   \n",
       "\n",
       "       Production  \n",
       "0             NaN  \n",
       "1             NaN  \n",
       "2             NaN  \n",
       "3             NaN  \n",
       "4             NaN  \n",
       "...           ...  \n",
       "13522       676.0  \n",
       "13523    296017.0  \n",
       "13524        84.0  \n",
       "13525       120.0  \n",
       "13526        15.0  \n",
       "\n",
       "[13527 rows x 7 columns]"
      ]
     },
     "execution_count": 7,
     "metadata": {},
     "output_type": "execute_result"
    }
   ],
   "source": [
    "dataset"
   ]
  },
  {
   "cell_type": "code",
   "execution_count": 8,
   "id": "c65c165c",
   "metadata": {},
   "outputs": [
    {
     "data": {
      "text/html": [
       "<div>\n",
       "<style scoped>\n",
       "    .dataframe tbody tr th:only-of-type {\n",
       "        vertical-align: middle;\n",
       "    }\n",
       "\n",
       "    .dataframe tbody tr th {\n",
       "        vertical-align: top;\n",
       "    }\n",
       "\n",
       "    .dataframe thead th {\n",
       "        text-align: right;\n",
       "    }\n",
       "</style>\n",
       "<table border=\"1\" class=\"dataframe\">\n",
       "  <thead>\n",
       "    <tr style=\"text-align: right;\">\n",
       "      <th></th>\n",
       "      <th>Crop_Year</th>\n",
       "      <th>Area</th>\n",
       "      <th>Production</th>\n",
       "    </tr>\n",
       "  </thead>\n",
       "  <tbody>\n",
       "    <tr>\n",
       "      <th>count</th>\n",
       "      <td>13527.000000</td>\n",
       "      <td>13527.000000</td>\n",
       "      <td>1.324800e+04</td>\n",
       "    </tr>\n",
       "    <tr>\n",
       "      <th>mean</th>\n",
       "      <td>2004.879722</td>\n",
       "      <td>7089.169735</td>\n",
       "      <td>9.115673e+05</td>\n",
       "    </tr>\n",
       "    <tr>\n",
       "      <th>std</th>\n",
       "      <td>4.716127</td>\n",
       "      <td>20888.489346</td>\n",
       "      <td>2.110179e+07</td>\n",
       "    </tr>\n",
       "    <tr>\n",
       "      <th>min</th>\n",
       "      <td>1997.000000</td>\n",
       "      <td>1.000000</td>\n",
       "      <td>0.000000e+00</td>\n",
       "    </tr>\n",
       "    <tr>\n",
       "      <th>25%</th>\n",
       "      <td>2002.000000</td>\n",
       "      <td>49.000000</td>\n",
       "      <td>5.800000e+01</td>\n",
       "    </tr>\n",
       "    <tr>\n",
       "      <th>50%</th>\n",
       "      <td>2004.000000</td>\n",
       "      <td>626.000000</td>\n",
       "      <td>8.500000e+02</td>\n",
       "    </tr>\n",
       "    <tr>\n",
       "      <th>75%</th>\n",
       "      <td>2009.000000</td>\n",
       "      <td>4481.000000</td>\n",
       "      <td>9.091250e+03</td>\n",
       "    </tr>\n",
       "    <tr>\n",
       "      <th>max</th>\n",
       "      <td>2013.000000</td>\n",
       "      <td>367554.000000</td>\n",
       "      <td>1.250800e+09</td>\n",
       "    </tr>\n",
       "  </tbody>\n",
       "</table>\n",
       "</div>"
      ],
      "text/plain": [
       "          Crop_Year           Area    Production\n",
       "count  13527.000000   13527.000000  1.324800e+04\n",
       "mean    2004.879722    7089.169735  9.115673e+05\n",
       "std        4.716127   20888.489346  2.110179e+07\n",
       "min     1997.000000       1.000000  0.000000e+00\n",
       "25%     2002.000000      49.000000  5.800000e+01\n",
       "50%     2004.000000     626.000000  8.500000e+02\n",
       "75%     2009.000000    4481.000000  9.091250e+03\n",
       "max     2013.000000  367554.000000  1.250800e+09"
      ]
     },
     "execution_count": 8,
     "metadata": {},
     "output_type": "execute_result"
    }
   ],
   "source": [
    "dataset.describe()"
   ]
  },
  {
   "cell_type": "code",
   "execution_count": 9,
   "id": "c9eba8fc",
   "metadata": {},
   "outputs": [],
   "source": [
    "#Checking for the null values in the dataset"
   ]
  },
  {
   "cell_type": "code",
   "execution_count": 10,
   "id": "43497c4f",
   "metadata": {},
   "outputs": [
    {
     "data": {
      "text/plain": [
       "State_Name         0\n",
       "District_Name      0\n",
       "Crop_Year          0\n",
       "Season             0\n",
       "Crop               0\n",
       "Area               0\n",
       "Production       279\n",
       "dtype: int64"
      ]
     },
     "execution_count": 10,
     "metadata": {},
     "output_type": "execute_result"
    }
   ],
   "source": [
    "dataset.isnull().sum()"
   ]
  },
  {
   "cell_type": "code",
   "execution_count": 11,
   "id": "c9e65206",
   "metadata": {},
   "outputs": [],
   "source": [
    "#Removing the null values"
   ]
  },
  {
   "cell_type": "code",
   "execution_count": 12,
   "id": "68e14fa2",
   "metadata": {},
   "outputs": [],
   "source": [
    "dataset.dropna(inplace=True)"
   ]
  },
  {
   "cell_type": "code",
   "execution_count": 13,
   "id": "5ac86d06",
   "metadata": {},
   "outputs": [
    {
     "data": {
      "text/plain": [
       "State_Name       0\n",
       "District_Name    0\n",
       "Crop_Year        0\n",
       "Season           0\n",
       "Crop             0\n",
       "Area             0\n",
       "Production       0\n",
       "dtype: int64"
      ]
     },
     "execution_count": 13,
     "metadata": {},
     "output_type": "execute_result"
    }
   ],
   "source": [
    "dataset.isnull().sum()"
   ]
  },
  {
   "cell_type": "code",
   "execution_count": 14,
   "id": "09ffb449",
   "metadata": {},
   "outputs": [],
   "source": [
    "#Converting Categorical Data into Numerical Data"
   ]
  },
  {
   "cell_type": "code",
   "execution_count": 15,
   "id": "f93c7c60",
   "metadata": {},
   "outputs": [
    {
     "data": {
      "text/plain": [
       "array(['Rice', 'Small millets', 'Arhar/Tur', 'Bajra', 'Banana',\n",
       "       'Cashewnut', 'Castor seed', 'Coconut ', 'Coriander',\n",
       "       'Cotton(lint)', 'Dry chillies', 'Groundnut', 'Jowar', 'Maize',\n",
       "       'Moong(Green Gram)', 'Onion', 'Ragi', 'Sesamum', 'Sugarcane',\n",
       "       'Sunflower', 'Sweet potato', 'Tapioca', 'Turmeric', 'Urad',\n",
       "       'Horse-gram', 'Tobacco', 'Black pepper', 'Cardamom', 'Gram',\n",
       "       'Pulses total', 'Total foodgrain', 'Wheat', 'Sannhamp', 'Korra',\n",
       "       'Samai', 'Guar seed', 'Other Cereals & Millets',\n",
       "       'Other Kharif pulses', 'Rapeseed &Mustard', 'Varagu', 'Ash Gourd',\n",
       "       'Beans & Mutter(Vegetable)', 'Beet Root', 'Bhindi', 'Bitter Gourd',\n",
       "       'Bottle Gourd', 'Brinjal', 'Cauliflower', 'Citrus Fruit',\n",
       "       'Cucumber', 'Drum Stick', 'Garlic', 'Grapes', 'Jack Fruit',\n",
       "       'Lab-Lab', 'Mango', 'Orange', 'Other Citrus Fruit',\n",
       "       'Other Fresh Fruits', 'Other Vegetables', 'Papaya', 'Pome Fruit',\n",
       "       'Pome Granet', 'Redish', 'Ribed Guard', 'Snak Guard', 'Tomato',\n",
       "       'Water Melon', 'Yam', 'Cabbage', 'Pump Kin', 'Dry ginger',\n",
       "       'Arecanut', 'Potato', 'Carrot', 'Pineapple', 'Mesta', 'Plums',\n",
       "       'Turnip', 'Pear', 'Ber'], dtype=object)"
      ]
     },
     "execution_count": 15,
     "metadata": {},
     "output_type": "execute_result"
    }
   ],
   "source": [
    "dataset['Crop'].unique()"
   ]
  },
  {
   "cell_type": "code",
   "execution_count": 16,
   "id": "20c7c297",
   "metadata": {},
   "outputs": [],
   "source": [
    "import matplotlib.pyplot as plt\n"
   ]
  },
  {
   "cell_type": "code",
   "execution_count": 17,
   "id": "357cf68a",
   "metadata": {},
   "outputs": [
    {
     "data": {
      "text/plain": [
       "(array([ 783., 1032., 1324., 1507., 1831., 2189., 2243., 1534.,  634.,\n",
       "         171.]),\n",
       " array([ 0.        ,  1.28146255,  2.56292511,  3.84438766,  5.12585021,\n",
       "         6.40731276,  7.68877532,  8.97023787, 10.25170042, 11.53316297,\n",
       "        12.81462553]),\n",
       " <BarContainer object of 10 artists>)"
      ]
     },
     "execution_count": 17,
     "metadata": {},
     "output_type": "execute_result"
    },
    {
     "data": {
      "image/png": "[encoded data removed]",
      "text/plain": [
       "<Figure size 432x288 with 2 Axes>"
      ]
     },
     "metadata": {
      "needs_background": "light"
     },
     "output_type": "display_data"
    }
   ],
   "source": [
    "fig, axs = plt.subplots(nrows=1, ncols=2)\n",
    "axs[0].hist(dataset['Area'], edgecolor='black')\n",
    "data_log = np.log(dataset['Area'])\n",
    "axs[1].hist(data_log, edgecolor='black')\n",
    "\n",
    "\n",
    "\n"
   ]
  },
  {
   "cell_type": "code",
   "execution_count": 18,
   "id": "b268efb1",
   "metadata": {},
   "outputs": [
    {
     "data": {
      "text/plain": [
       "array(['Kharif     ', 'Whole Year ', 'Rabi       '], dtype=object)"
      ]
     },
     "execution_count": 18,
     "metadata": {},
     "output_type": "execute_result"
    }
   ],
   "source": [
    "dataset['Season'].unique()"
   ]
  },
  {
   "cell_type": "code",
   "execution_count": 19,
   "id": "7ab0abd9",
   "metadata": {},
   "outputs": [
    {
     "data": {
      "text/plain": [
       "array(['ARIYALUR', 'COIMBATORE', 'CUDDALORE', 'DHARMAPURI', 'DINDIGUL',\n",
       "       'ERODE', 'KANCHIPURAM', 'KANNIYAKUMARI', 'KARUR', 'KRISHNAGIRI',\n",
       "       'MADURAI', 'NAGAPATTINAM', 'NAMAKKAL', 'PERAMBALUR', 'PUDUKKOTTAI',\n",
       "       'RAMANATHAPURAM', 'SALEM', 'SIVAGANGA', 'THANJAVUR',\n",
       "       'THE NILGIRIS', 'THENI', 'THIRUVALLUR', 'THIRUVARUR',\n",
       "       'TIRUCHIRAPPALLI', 'TIRUNELVELI', 'TIRUPPUR', 'TIRUVANNAMALAI',\n",
       "       'TUTICORIN', 'VELLORE', 'VILLUPURAM', 'VIRUDHUNAGAR'], dtype=object)"
      ]
     },
     "execution_count": 19,
     "metadata": {},
     "output_type": "execute_result"
    }
   ],
   "source": [
    "dataset['District_Name'].unique()"
   ]
  },
  {
   "cell_type": "code",
   "execution_count": 20,
   "id": "b2bd8df6",
   "metadata": {},
   "outputs": [
    {
     "name": "stdout",
     "output_type": "stream",
     "text": [
      "       State_Name  Crop_Year       Season           Crop   Area  Production  \\\n",
      "22     Tamil Nadu       2009  Kharif                Rice  25978     80462.0   \n",
      "23     Tamil Nadu       2009  Kharif       Small millets    404       649.0   \n",
      "24     Tamil Nadu       2009  Whole Year       Arhar/Tur    160       122.0   \n",
      "25     Tamil Nadu       2009  Whole Year           Bajra    644      1082.0   \n",
      "26     Tamil Nadu       2009  Whole Year          Banana    134      5761.0   \n",
      "...           ...        ...          ...            ...    ...         ...   \n",
      "13522  Tamil Nadu       2013  Whole Year   Small millets   1187       676.0   \n",
      "13523  Tamil Nadu       2013  Whole Year       Sugarcane   2917    296017.0   \n",
      "13524  Tamil Nadu       2013  Whole Year    Sweet potato      4        84.0   \n",
      "13525  Tamil Nadu       2013  Whole Year         Tapioca      4       120.0   \n",
      "13526  Tamil Nadu       2013  Whole Year        Turmeric      4        15.0   \n",
      "\n",
      "       District_Name_ARIYALUR  District_Name_COIMBATORE  \\\n",
      "22                          1                         0   \n",
      "23                          1                         0   \n",
      "24                          1                         0   \n",
      "25                          1                         0   \n",
      "26                          1                         0   \n",
      "...                       ...                       ...   \n",
      "13522                       0                         0   \n",
      "13523                       0                         0   \n",
      "13524                       0                         0   \n",
      "13525                       0                         0   \n",
      "13526                       0                         0   \n",
      "\n",
      "       District_Name_CUDDALORE  District_Name_DHARMAPURI  ...  \\\n",
      "22                           0                         0  ...   \n",
      "23                           0                         0  ...   \n",
      "24                           0                         0  ...   \n",
      "25                           0                         0  ...   \n",
      "26                           0                         0  ...   \n",
      "...                        ...                       ...  ...   \n",
      "13522                        0                         0  ...   \n",
      "13523                        0                         0  ...   \n",
      "13524                        0                         0  ...   \n",
      "13525                        0                         0  ...   \n",
      "13526                        0                         0  ...   \n",
      "\n",
      "       District_Name_THIRUVALLUR  District_Name_THIRUVARUR  \\\n",
      "22                             0                         0   \n",
      "23                             0                         0   \n",
      "24                             0                         0   \n",
      "25                             0                         0   \n",
      "26                             0                         0   \n",
      "...                          ...                       ...   \n",
      "13522                          0                         0   \n",
      "13523                          0                         0   \n",
      "13524                          0                         0   \n",
      "13525                          0                         0   \n",
      "13526                          0                         0   \n",
      "\n",
      "       District_Name_TIRUCHIRAPPALLI  District_Name_TIRUNELVELI  \\\n",
      "22                                 0                          0   \n",
      "23                                 0                          0   \n",
      "24                                 0                          0   \n",
      "25                                 0                          0   \n",
      "26                                 0                          0   \n",
      "...                              ...                        ...   \n",
      "13522                              0                          0   \n",
      "13523                              0                          0   \n",
      "13524                              0                          0   \n",
      "13525                              0                          0   \n",
      "13526                              0                          0   \n",
      "\n",
      "       District_Name_TIRUPPUR  District_Name_TIRUVANNAMALAI  \\\n",
      "22                          0                             0   \n",
      "23                          0                             0   \n",
      "24                          0                             0   \n",
      "25                          0                             0   \n",
      "26                          0                             0   \n",
      "...                       ...                           ...   \n",
      "13522                       0                             0   \n",
      "13523                       0                             0   \n",
      "13524                       0                             0   \n",
      "13525                       0                             0   \n",
      "13526                       0                             0   \n",
      "\n",
      "       District_Name_TUTICORIN  District_Name_VELLORE  \\\n",
      "22                           0                      0   \n",
      "23                           0                      0   \n",
      "24                           0                      0   \n",
      "25                           0                      0   \n",
      "26                           0                      0   \n",
      "...                        ...                    ...   \n",
      "13522                        0                      0   \n",
      "13523                        0                      0   \n",
      "13524                        0                      0   \n",
      "13525                        0                      0   \n",
      "13526                        0                      0   \n",
      "\n",
      "       District_Name_VILLUPURAM  District_Name_VIRUDHUNAGAR  \n",
      "22                            0                           0  \n",
      "23                            0                           0  \n",
      "24                            0                           0  \n",
      "25                            0                           0  \n",
      "26                            0                           0  \n",
      "...                         ...                         ...  \n",
      "13522                         0                           1  \n",
      "13523                         0                           1  \n",
      "13524                         0                           1  \n",
      "13525                         0                           1  \n",
      "13526                         0                           1  \n",
      "\n",
      "[13248 rows x 37 columns]\n"
     ]
    }
   ],
   "source": [
    "dataset_encoded = pd.get_dummies(dataset, columns = ['District_Name'])\n",
    "print(dataset_encoded)\n"
   ]
  },
  {
   "cell_type": "code",
   "execution_count": 21,
   "id": "1f52cc34",
   "metadata": {},
   "outputs": [],
   "source": [
    "dataset['District_Name']=dataset_encoded['District_Name_ARIYALUR']+dataset_encoded['District_Name_COIMBATORE']+dataset_encoded['District_Name_CUDDALORE']+dataset_encoded['District_Name_DHARMAPURI']+dataset_encoded['District_Name_DINDIGUL']+dataset_encoded['District_Name_ERODE']+dataset_encoded['District_Name_KANCHIPURAM']+dataset_encoded['District_Name_KANNIYAKUMARI']+dataset_encoded['District_Name_KARUR']+dataset_encoded['District_Name_KRISHNAGIRI']+dataset_encoded['District_Name_MADURAI']+dataset_encoded['District_Name_NAGAPATTINAM']+dataset_encoded['District_Name_NAMAKKAL']+dataset_encoded['District_Name_PERAMBALUR']+dataset_encoded['District_Name_PUDUKKOTTAI']+dataset_encoded['District_Name_RAMANATHAPURAM']+dataset_encoded['District_Name_SALEM']+dataset_encoded['District_Name_SIVAGANGA']+dataset_encoded['District_Name_THANJAVUR']+dataset_encoded['District_Name_THE NILGIRIS']+dataset_encoded['District_Name_THENI']+dataset_encoded['District_Name_THIRUVALLUR']+dataset_encoded['District_Name_THIRUVARUR']+dataset_encoded['District_Name_TIRUCHIRAPPALLI']+dataset_encoded['District_Name_TIRUNELVELI']+dataset_encoded['District_Name_TIRUPPUR']+dataset_encoded['District_Name_TIRUVANNAMALAI']+dataset_encoded['District_Name_TUTICORIN']+dataset_encoded['District_Name_VELLORE']+dataset_encoded['District_Name_VILLUPURAM']+dataset_encoded['District_Name_VIRUDHUNAGAR']"
   ]
  },
  {
   "cell_type": "code",
   "execution_count": 22,
   "id": "8000c9a4",
   "metadata": {},
   "outputs": [
    {
     "name": "stdout",
     "output_type": "stream",
     "text": [
      "       State_Name  District_Name  Crop_Year       Season   Area  Production  \\\n",
      "22     Tamil Nadu              1       2009  Kharif       25978     80462.0   \n",
      "23     Tamil Nadu              1       2009  Kharif         404       649.0   \n",
      "24     Tamil Nadu              1       2009  Whole Year     160       122.0   \n",
      "25     Tamil Nadu              1       2009  Whole Year     644      1082.0   \n",
      "26     Tamil Nadu              1       2009  Whole Year     134      5761.0   \n",
      "...           ...            ...        ...          ...    ...         ...   \n",
      "13522  Tamil Nadu              1       2013  Whole Year    1187       676.0   \n",
      "13523  Tamil Nadu              1       2013  Whole Year    2917    296017.0   \n",
      "13524  Tamil Nadu              1       2013  Whole Year       4        84.0   \n",
      "13525  Tamil Nadu              1       2013  Whole Year       4       120.0   \n",
      "13526  Tamil Nadu              1       2013  Whole Year       4        15.0   \n",
      "\n",
      "       Crop_Arecanut  Crop_Arhar/Tur  Crop_Ash Gourd  Crop_Bajra  ...  \\\n",
      "22                 0               0               0           0  ...   \n",
      "23                 0               0               0           0  ...   \n",
      "24                 0               1               0           0  ...   \n",
      "25                 0               0               0           1  ...   \n",
      "26                 0               0               0           0  ...   \n",
      "...              ...             ...             ...         ...  ...   \n",
      "13522              0               0               0           0  ...   \n",
      "13523              0               0               0           0  ...   \n",
      "13524              0               0               0           0  ...   \n",
      "13525              0               0               0           0  ...   \n",
      "13526              0               0               0           0  ...   \n",
      "\n",
      "       Crop_Tobacco  Crop_Tomato  Crop_Total foodgrain  Crop_Turmeric  \\\n",
      "22                0            0                     0              0   \n",
      "23                0            0                     0              0   \n",
      "24                0            0                     0              0   \n",
      "25                0            0                     0              0   \n",
      "26                0            0                     0              0   \n",
      "...             ...          ...                   ...            ...   \n",
      "13522             0            0                     0              0   \n",
      "13523             0            0                     0              0   \n",
      "13524             0            0                     0              0   \n",
      "13525             0            0                     0              0   \n",
      "13526             0            0                     0              1   \n",
      "\n",
      "       Crop_Turnip  Crop_Urad  Crop_Varagu  Crop_Water Melon  Crop_Wheat  \\\n",
      "22               0          0            0                 0           0   \n",
      "23               0          0            0                 0           0   \n",
      "24               0          0            0                 0           0   \n",
      "25               0          0            0                 0           0   \n",
      "26               0          0            0                 0           0   \n",
      "...            ...        ...          ...               ...         ...   \n",
      "13522            0          0            0                 0           0   \n",
      "13523            0          0            0                 0           0   \n",
      "13524            0          0            0                 0           0   \n",
      "13525            0          0            0                 0           0   \n",
      "13526            0          0            0                 0           0   \n",
      "\n",
      "       Crop_Yam  \n",
      "22            0  \n",
      "23            0  \n",
      "24            0  \n",
      "25            0  \n",
      "26            0  \n",
      "...         ...  \n",
      "13522         0  \n",
      "13523         0  \n",
      "13524         0  \n",
      "13525         0  \n",
      "13526         0  \n",
      "\n",
      "[13248 rows x 87 columns]\n"
     ]
    }
   ],
   "source": [
    "one_hot_encoded_data = pd.get_dummies(dataset, columns = ['Crop'])\n",
    "print(one_hot_encoded_data)\n"
   ]
  },
  {
   "cell_type": "code",
   "execution_count": 23,
   "id": "62c6f14b",
   "metadata": {},
   "outputs": [],
   "source": [
    "dataset['Crop']=one_hot_encoded_data['Crop_Rice']+one_hot_encoded_data['Crop_Small millets']+one_hot_encoded_data['Crop_Arhar/Tur']+one_hot_encoded_data['Crop_Bajra']+one_hot_encoded_data['Crop_Banana']+one_hot_encoded_data['Crop_Cashewnut']+one_hot_encoded_data['Crop_Castor seed']+one_hot_encoded_data['Crop_Coconut ']+one_hot_encoded_data['Crop_Coriander']+one_hot_encoded_data['Crop_Cotton(lint)']+one_hot_encoded_data['Crop_Dry chillies']+one_hot_encoded_data['Crop_Groundnut']+one_hot_encoded_data['Crop_Jowar']+one_hot_encoded_data['Crop_Maize']+one_hot_encoded_data['Crop_Moong(Green Gram)']+one_hot_encoded_data['Crop_Onion']+one_hot_encoded_data['Crop_Ragi']+one_hot_encoded_data['Crop_Sesamum']+one_hot_encoded_data['Crop_Sugarcane']+one_hot_encoded_data['Crop_Sunflower']+one_hot_encoded_data['Crop_Sweet potato']+one_hot_encoded_data['Crop_Tapioca']+one_hot_encoded_data['Crop_Turmeric']+one_hot_encoded_data['Crop_Urad']+one_hot_encoded_data['Crop_Horse-gram']+one_hot_encoded_data['Crop_Tobacco']+one_hot_encoded_data['Crop_Black pepper']+one_hot_encoded_data['Crop_Cardamom']+one_hot_encoded_data['Crop_Gram']+one_hot_encoded_data['Crop_Pulses total']+one_hot_encoded_data['Crop_Total foodgrain']+one_hot_encoded_data['Crop_Wheat']+one_hot_encoded_data['Crop_Sannhamp']+one_hot_encoded_data['Crop_Korra']+one_hot_encoded_data['Crop_Samai']+one_hot_encoded_data['Crop_Guar seed']+one_hot_encoded_data['Crop_Other Cereals & Millets']+one_hot_encoded_data['Crop_Other Kharif pulses']+one_hot_encoded_data['Crop_Rapeseed &Mustard']+one_hot_encoded_data['Crop_Varagu']+one_hot_encoded_data['Crop_Ash Gourd']+one_hot_encoded_data['Crop_Beans & Mutter(Vegetable)']+one_hot_encoded_data['Crop_Beet Root']+one_hot_encoded_data['Crop_Bhindi']+one_hot_encoded_data['Crop_Bitter Gourd']+one_hot_encoded_data['Crop_Bottle Gourd']+one_hot_encoded_data['Crop_Brinjal']+one_hot_encoded_data['Crop_Cauliflower']+one_hot_encoded_data['Crop_Citrus Fruit']+one_hot_encoded_data['Crop_Cucumber']+one_hot_encoded_data['Crop_Drum Stick']+one_hot_encoded_data['Crop_Garlic']+one_hot_encoded_data['Crop_Grapes']+one_hot_encoded_data['Crop_Jack Fruit']+one_hot_encoded_data['Crop_Lab-Lab']+one_hot_encoded_data['Crop_Mango']+one_hot_encoded_data['Crop_Orange']+one_hot_encoded_data['Crop_Other Citrus Fruit']+one_hot_encoded_data['Crop_Other Fresh Fruits']+one_hot_encoded_data['Crop_Other Vegetables']+one_hot_encoded_data['Crop_Papaya']+one_hot_encoded_data['Crop_Pome Fruit']+one_hot_encoded_data['Crop_Pome Granet']+one_hot_encoded_data['Crop_Redish']+one_hot_encoded_data['Crop_Ribed Guard']+one_hot_encoded_data['Crop_Snak Guard']+one_hot_encoded_data['Crop_Tomato']+one_hot_encoded_data['Crop_Water Melon']+one_hot_encoded_data['Crop_Yam']+one_hot_encoded_data['Crop_Cabbage']+one_hot_encoded_data['Crop_Pump Kin']+one_hot_encoded_data['Crop_Dry ginger']+one_hot_encoded_data['Crop_Arecanut']+one_hot_encoded_data['Crop_Potato']+one_hot_encoded_data['Crop_Carrot']+one_hot_encoded_data['Crop_Pineapple']+one_hot_encoded_data['Crop_Mesta']+one_hot_encoded_data['Crop_Plums']+one_hot_encoded_data['Crop_Turnip']+one_hot_encoded_data['Crop_Pear']+one_hot_encoded_data['Crop_Ber']"
   ]
  },
  {
   "cell_type": "code",
   "execution_count": 24,
   "id": "b370d382",
   "metadata": {},
   "outputs": [
    {
     "name": "stdout",
     "output_type": "stream",
     "text": [
      "    State_Name  District_Name  Crop_Year  Crop   Area  Production  \\\n",
      "22  Tamil Nadu              1       2009     1  25978     80462.0   \n",
      "23  Tamil Nadu              1       2009     1    404       649.0   \n",
      "24  Tamil Nadu              1       2009     1    160       122.0   \n",
      "25  Tamil Nadu              1       2009     1    644      1082.0   \n",
      "26  Tamil Nadu              1       2009     1    134      5761.0   \n",
      "\n",
      "    Season_Kharif       Season_Rabi         Season_Whole Year   \n",
      "22                   1                   0                   0  \n",
      "23                   1                   0                   0  \n",
      "24                   0                   0                   1  \n",
      "25                   0                   0                   1  \n",
      "26                   0                   0                   1  \n"
     ]
    }
   ],
   "source": [
    "one_hot_encoded_data = pd.get_dummies(dataset, columns = ['Season'])\n",
    "print(one_hot_encoded_data.head())\n"
   ]
  },
  {
   "cell_type": "code",
   "execution_count": 25,
   "id": "3364e652",
   "metadata": {},
   "outputs": [],
   "source": [
    "dataset['Season']=one_hot_encoded_data['Season_Kharif     ']+one_hot_encoded_data['Season_Rabi       ']+one_hot_encoded_data['Season_Whole Year ']"
   ]
  },
  {
   "cell_type": "code",
   "execution_count": 26,
   "id": "d30a6298",
   "metadata": {},
   "outputs": [],
   "source": [
    "dataset['Area']=data_log"
   ]
  },
  {
   "cell_type": "code",
   "execution_count": 27,
   "id": "069de177",
   "metadata": {},
   "outputs": [
    {
     "data": {
      "text/html": [
       "<div>\n",
       "<style scoped>\n",
       "    .dataframe tbody tr th:only-of-type {\n",
       "        vertical-align: middle;\n",
       "    }\n",
       "\n",
       "    .dataframe tbody tr th {\n",
       "        vertical-align: top;\n",
       "    }\n",
       "\n",
       "    .dataframe thead th {\n",
       "        text-align: right;\n",
       "    }\n",
       "</style>\n",
       "<table border=\"1\" class=\"dataframe\">\n",
       "  <thead>\n",
       "    <tr style=\"text-align: right;\">\n",
       "      <th></th>\n",
       "      <th>State_Name</th>\n",
       "      <th>District_Name</th>\n",
       "      <th>Crop_Year</th>\n",
       "      <th>Season</th>\n",
       "      <th>Crop</th>\n",
       "      <th>Area</th>\n",
       "      <th>Production</th>\n",
       "    </tr>\n",
       "  </thead>\n",
       "  <tbody>\n",
       "    <tr>\n",
       "      <th>22</th>\n",
       "      <td>Tamil Nadu</td>\n",
       "      <td>1</td>\n",
       "      <td>2009</td>\n",
       "      <td>1</td>\n",
       "      <td>1</td>\n",
       "      <td>10.165005</td>\n",
       "      <td>80462.0</td>\n",
       "    </tr>\n",
       "    <tr>\n",
       "      <th>23</th>\n",
       "      <td>Tamil Nadu</td>\n",
       "      <td>1</td>\n",
       "      <td>2009</td>\n",
       "      <td>1</td>\n",
       "      <td>1</td>\n",
       "      <td>6.001415</td>\n",
       "      <td>649.0</td>\n",
       "    </tr>\n",
       "    <tr>\n",
       "      <th>24</th>\n",
       "      <td>Tamil Nadu</td>\n",
       "      <td>1</td>\n",
       "      <td>2009</td>\n",
       "      <td>1</td>\n",
       "      <td>1</td>\n",
       "      <td>5.075174</td>\n",
       "      <td>122.0</td>\n",
       "    </tr>\n",
       "    <tr>\n",
       "      <th>25</th>\n",
       "      <td>Tamil Nadu</td>\n",
       "      <td>1</td>\n",
       "      <td>2009</td>\n",
       "      <td>1</td>\n",
       "      <td>1</td>\n",
       "      <td>6.467699</td>\n",
       "      <td>1082.0</td>\n",
       "    </tr>\n",
       "    <tr>\n",
       "      <th>26</th>\n",
       "      <td>Tamil Nadu</td>\n",
       "      <td>1</td>\n",
       "      <td>2009</td>\n",
       "      <td>1</td>\n",
       "      <td>1</td>\n",
       "      <td>4.897840</td>\n",
       "      <td>5761.0</td>\n",
       "    </tr>\n",
       "    <tr>\n",
       "      <th>...</th>\n",
       "      <td>...</td>\n",
       "      <td>...</td>\n",
       "      <td>...</td>\n",
       "      <td>...</td>\n",
       "      <td>...</td>\n",
       "      <td>...</td>\n",
       "      <td>...</td>\n",
       "    </tr>\n",
       "    <tr>\n",
       "      <th>13522</th>\n",
       "      <td>Tamil Nadu</td>\n",
       "      <td>1</td>\n",
       "      <td>2013</td>\n",
       "      <td>1</td>\n",
       "      <td>1</td>\n",
       "      <td>7.079184</td>\n",
       "      <td>676.0</td>\n",
       "    </tr>\n",
       "    <tr>\n",
       "      <th>13523</th>\n",
       "      <td>Tamil Nadu</td>\n",
       "      <td>1</td>\n",
       "      <td>2013</td>\n",
       "      <td>1</td>\n",
       "      <td>1</td>\n",
       "      <td>7.978311</td>\n",
       "      <td>296017.0</td>\n",
       "    </tr>\n",
       "    <tr>\n",
       "      <th>13524</th>\n",
       "      <td>Tamil Nadu</td>\n",
       "      <td>1</td>\n",
       "      <td>2013</td>\n",
       "      <td>1</td>\n",
       "      <td>1</td>\n",
       "      <td>1.386294</td>\n",
       "      <td>84.0</td>\n",
       "    </tr>\n",
       "    <tr>\n",
       "      <th>13525</th>\n",
       "      <td>Tamil Nadu</td>\n",
       "      <td>1</td>\n",
       "      <td>2013</td>\n",
       "      <td>1</td>\n",
       "      <td>1</td>\n",
       "      <td>1.386294</td>\n",
       "      <td>120.0</td>\n",
       "    </tr>\n",
       "    <tr>\n",
       "      <th>13526</th>\n",
       "      <td>Tamil Nadu</td>\n",
       "      <td>1</td>\n",
       "      <td>2013</td>\n",
       "      <td>1</td>\n",
       "      <td>1</td>\n",
       "      <td>1.386294</td>\n",
       "      <td>15.0</td>\n",
       "    </tr>\n",
       "  </tbody>\n",
       "</table>\n",
       "<p>13248 rows × 7 columns</p>\n",
       "</div>"
      ],
      "text/plain": [
       "       State_Name  District_Name  Crop_Year  Season  Crop       Area  \\\n",
       "22     Tamil Nadu              1       2009       1     1  10.165005   \n",
       "23     Tamil Nadu              1       2009       1     1   6.001415   \n",
       "24     Tamil Nadu              1       2009       1     1   5.075174   \n",
       "25     Tamil Nadu              1       2009       1     1   6.467699   \n",
       "26     Tamil Nadu              1       2009       1     1   4.897840   \n",
       "...           ...            ...        ...     ...   ...        ...   \n",
       "13522  Tamil Nadu              1       2013       1     1   7.079184   \n",
       "13523  Tamil Nadu              1       2013       1     1   7.978311   \n",
       "13524  Tamil Nadu              1       2013       1     1   1.386294   \n",
       "13525  Tamil Nadu              1       2013       1     1   1.386294   \n",
       "13526  Tamil Nadu              1       2013       1     1   1.386294   \n",
       "\n",
       "       Production  \n",
       "22        80462.0  \n",
       "23          649.0  \n",
       "24          122.0  \n",
       "25         1082.0  \n",
       "26         5761.0  \n",
       "...           ...  \n",
       "13522       676.0  \n",
       "13523    296017.0  \n",
       "13524        84.0  \n",
       "13525       120.0  \n",
       "13526        15.0  \n",
       "\n",
       "[13248 rows x 7 columns]"
      ]
     },
     "execution_count": 27,
     "metadata": {},
     "output_type": "execute_result"
    }
   ],
   "source": [
    "dataset"
   ]
  },
  {
   "cell_type": "code",
   "execution_count": 28,
   "id": "74f3c00d",
   "metadata": {},
   "outputs": [],
   "source": [
    "#Training Testing of dataset"
   ]
  },
  {
   "cell_type": "code",
   "execution_count": 29,
   "id": "04ac021f",
   "metadata": {},
   "outputs": [],
   "source": [
    "from sklearn.model_selection import train_test_split"
   ]
  },
  {
   "cell_type": "code",
   "execution_count": 30,
   "id": "46590c59",
   "metadata": {},
   "outputs": [],
   "source": [
    "X=dataset.drop(labels=[\"State_Name\",\"Production\",\"Crop_Year\"],axis=1)"
   ]
  },
  {
   "cell_type": "code",
   "execution_count": 31,
   "id": "83b437c1",
   "metadata": {},
   "outputs": [
    {
     "data": {
      "text/html": [
       "<div>\n",
       "<style scoped>\n",
       "    .dataframe tbody tr th:only-of-type {\n",
       "        vertical-align: middle;\n",
       "    }\n",
       "\n",
       "    .dataframe tbody tr th {\n",
       "        vertical-align: top;\n",
       "    }\n",
       "\n",
       "    .dataframe thead th {\n",
       "        text-align: right;\n",
       "    }\n",
       "</style>\n",
       "<table border=\"1\" class=\"dataframe\">\n",
       "  <thead>\n",
       "    <tr style=\"text-align: right;\">\n",
       "      <th></th>\n",
       "      <th>District_Name</th>\n",
       "      <th>Season</th>\n",
       "      <th>Crop</th>\n",
       "      <th>Area</th>\n",
       "    </tr>\n",
       "  </thead>\n",
       "  <tbody>\n",
       "    <tr>\n",
       "      <th>22</th>\n",
       "      <td>1</td>\n",
       "      <td>1</td>\n",
       "      <td>1</td>\n",
       "      <td>10.165005</td>\n",
       "    </tr>\n",
       "    <tr>\n",
       "      <th>23</th>\n",
       "      <td>1</td>\n",
       "      <td>1</td>\n",
       "      <td>1</td>\n",
       "      <td>6.001415</td>\n",
       "    </tr>\n",
       "    <tr>\n",
       "      <th>24</th>\n",
       "      <td>1</td>\n",
       "      <td>1</td>\n",
       "      <td>1</td>\n",
       "      <td>5.075174</td>\n",
       "    </tr>\n",
       "    <tr>\n",
       "      <th>25</th>\n",
       "      <td>1</td>\n",
       "      <td>1</td>\n",
       "      <td>1</td>\n",
       "      <td>6.467699</td>\n",
       "    </tr>\n",
       "    <tr>\n",
       "      <th>26</th>\n",
       "      <td>1</td>\n",
       "      <td>1</td>\n",
       "      <td>1</td>\n",
       "      <td>4.897840</td>\n",
       "    </tr>\n",
       "    <tr>\n",
       "      <th>...</th>\n",
       "      <td>...</td>\n",
       "      <td>...</td>\n",
       "      <td>...</td>\n",
       "      <td>...</td>\n",
       "    </tr>\n",
       "    <tr>\n",
       "      <th>13522</th>\n",
       "      <td>1</td>\n",
       "      <td>1</td>\n",
       "      <td>1</td>\n",
       "      <td>7.079184</td>\n",
       "    </tr>\n",
       "    <tr>\n",
       "      <th>13523</th>\n",
       "      <td>1</td>\n",
       "      <td>1</td>\n",
       "      <td>1</td>\n",
       "      <td>7.978311</td>\n",
       "    </tr>\n",
       "    <tr>\n",
       "      <th>13524</th>\n",
       "      <td>1</td>\n",
       "      <td>1</td>\n",
       "      <td>1</td>\n",
       "      <td>1.386294</td>\n",
       "    </tr>\n",
       "    <tr>\n",
       "      <th>13525</th>\n",
       "      <td>1</td>\n",
       "      <td>1</td>\n",
       "      <td>1</td>\n",
       "      <td>1.386294</td>\n",
       "    </tr>\n",
       "    <tr>\n",
       "      <th>13526</th>\n",
       "      <td>1</td>\n",
       "      <td>1</td>\n",
       "      <td>1</td>\n",
       "      <td>1.386294</td>\n",
       "    </tr>\n",
       "  </tbody>\n",
       "</table>\n",
       "<p>13248 rows × 4 columns</p>\n",
       "</div>"
      ],
      "text/plain": [
       "       District_Name  Season  Crop       Area\n",
       "22                 1       1     1  10.165005\n",
       "23                 1       1     1   6.001415\n",
       "24                 1       1     1   5.075174\n",
       "25                 1       1     1   6.467699\n",
       "26                 1       1     1   4.897840\n",
       "...              ...     ...   ...        ...\n",
       "13522              1       1     1   7.079184\n",
       "13523              1       1     1   7.978311\n",
       "13524              1       1     1   1.386294\n",
       "13525              1       1     1   1.386294\n",
       "13526              1       1     1   1.386294\n",
       "\n",
       "[13248 rows x 4 columns]"
      ]
     },
     "execution_count": 31,
     "metadata": {},
     "output_type": "execute_result"
    }
   ],
   "source": [
    "X"
   ]
  },
  {
   "cell_type": "code",
   "execution_count": 32,
   "id": "a1685a25",
   "metadata": {},
   "outputs": [],
   "source": [
    "Y=dataset['Production']"
   ]
  },
  {
   "cell_type": "code",
   "execution_count": null,
   "id": "ee868db6",
   "metadata": {},
   "outputs": [],
   "source": []
  },
  {
   "cell_type": "code",
   "execution_count": 33,
   "id": "a2419167",
   "metadata": {},
   "outputs": [],
   "source": [
    "X_train,X_test,Y_train,Y_test=train_test_split(X,Y,test_size=0.33,random_state=42)"
   ]
  },
  {
   "cell_type": "code",
   "execution_count": 34,
   "id": "76e66462",
   "metadata": {},
   "outputs": [
    {
     "name": "stdout",
     "output_type": "stream",
     "text": [
      "X_train : (8876, 4)\n",
      "X_test : (4372, 4)\n",
      "Y_train : (8876,)\n",
      "Y_test : (4372,)\n"
     ]
    }
   ],
   "source": [
    "print(\"X_train :\",X_train.shape)\n",
    "print(\"X_test :\",X_test.shape)\n",
    "print(\"Y_train :\",Y_train.shape)\n",
    "print(\"Y_test :\",Y_test.shape)\n"
   ]
  },
  {
   "cell_type": "code",
   "execution_count": 35,
   "id": "15caeea8",
   "metadata": {},
   "outputs": [],
   "source": [
    "#Fitting the Model"
   ]
  },
  {
   "cell_type": "code",
   "execution_count": 36,
   "id": "89924ea9",
   "metadata": {},
   "outputs": [],
   "source": [
    "#Multiple Linear Regression"
   ]
  },
  {
   "cell_type": "code",
   "execution_count": 37,
   "id": "8a34411d",
   "metadata": {},
   "outputs": [],
   "source": [
    "from sklearn.linear_model import LinearRegression"
   ]
  },
  {
   "cell_type": "code",
   "execution_count": 38,
   "id": "a61f3d6a",
   "metadata": {},
   "outputs": [
    {
     "data": {
      "text/plain": [
       "LinearRegression()"
      ]
     },
     "execution_count": 38,
     "metadata": {},
     "output_type": "execute_result"
    }
   ],
   "source": [
    "regressor=LinearRegression()\n",
    "regressor.fit(X_train,Y_train)"
   ]
  },
  {
   "cell_type": "code",
   "execution_count": 39,
   "id": "9224d739",
   "metadata": {},
   "outputs": [
    {
     "data": {
      "text/plain": [
       "array([     0.        ,      0.        ,      0.        , 578768.63618422])"
      ]
     },
     "execution_count": 39,
     "metadata": {},
     "output_type": "execute_result"
    }
   ],
   "source": [
    "regressor.coef_"
   ]
  },
  {
   "cell_type": "code",
   "execution_count": 40,
   "id": "a5fab912",
   "metadata": {},
   "outputs": [],
   "source": [
    "Y_predict=regressor.predict(X_test)"
   ]
  },
  {
   "cell_type": "code",
   "execution_count": 41,
   "id": "1a83d184",
   "metadata": {},
   "outputs": [
    {
     "data": {
      "text/plain": [
       "array([ 2745505.99650351,  3446266.82532895,  2755264.3500607 , ...,\n",
       "        3102394.88985863,  2734430.30540679, -1189493.63312303])"
      ]
     },
     "execution_count": 41,
     "metadata": {},
     "output_type": "execute_result"
    }
   ],
   "source": [
    "Y_predict"
   ]
  },
  {
   "cell_type": "code",
   "execution_count": 42,
   "id": "a1aebbb8",
   "metadata": {},
   "outputs": [],
   "source": [
    "from sklearn.metrics import r2_score"
   ]
  },
  {
   "cell_type": "code",
   "execution_count": 43,
   "id": "9871804d",
   "metadata": {},
   "outputs": [
    {
     "data": {
      "text/plain": [
       "-0.04618363776236789"
      ]
     },
     "execution_count": 43,
     "metadata": {},
     "output_type": "execute_result"
    }
   ],
   "source": [
    "r2_score(Y_test,Y_predict)"
   ]
  },
  {
   "cell_type": "code",
   "execution_count": 59,
   "id": "7e345599",
   "metadata": {},
   "outputs": [
    {
     "name": "stdout",
     "output_type": "stream",
     "text": [
      "Mean Absolute Error is:0.58333\n",
      "Mean Squared Error is:0.75\n",
      "Root Mean Squared Error is:0.8666\n"
     ]
    }
   ],
   "source": [
    "print(\"Mean Absolute Error is:\",metrics.mean_absolute_error(Y_test,Y_predict))\n",
    "print(\"Mean Squared Error is:\",metrics.mean_squared_error(Y_test,Y_predict))\n",
    "print(\"Root Mean Squared Error is:\",np.sqrt(metrics.mean_squared_error(Y_test,Y_predict)))"
   ]
  },
  {
   "cell_type": "code",
   "execution_count": 45,
   "id": "2e7aef7f",
   "metadata": {},
   "outputs": [],
   "source": [
    "#2.Random Forest Regressor"
   ]
  },
  {
   "cell_type": "code",
   "execution_count": 47,
   "id": "6c474688",
   "metadata": {},
   "outputs": [],
   "source": [
    "model=RandomForestRegressor()"
   ]
  },
  {
   "cell_type": "code",
   "execution_count": 48,
   "id": "14b6837e",
   "metadata": {},
   "outputs": [
    {
     "data": {
      "text/plain": [
       "RandomForestRegressor()"
      ]
     },
     "execution_count": 48,
     "metadata": {},
     "output_type": "execute_result"
    }
   ],
   "source": [
    "model.fit(X_train,Y_train)"
   ]
  },
  {
   "cell_type": "code",
   "execution_count": 49,
   "id": "ac0d8c4f",
   "metadata": {},
   "outputs": [],
   "source": [
    "predict=model.predict(X_test)"
   ]
  },
  {
   "cell_type": "code",
   "execution_count": 50,
   "id": "23b385bd",
   "metadata": {},
   "outputs": [
    {
     "data": {
      "text/plain": [
       "array([5.33506170e+05, 5.04092500e+04, 1.72628800e+04, ...,\n",
       "       1.22874594e+06, 5.37994480e+05, 2.81355477e+01])"
      ]
     },
     "execution_count": 50,
     "metadata": {},
     "output_type": "execute_result"
    }
   ],
   "source": [
    "predict"
   ]
  },
  {
   "cell_type": "code",
   "execution_count": 60,
   "id": "643e638f",
   "metadata": {},
   "outputs": [
    {
     "name": "stdout",
     "output_type": "stream",
     "text": [
      "0.8234567122\n"
     ]
    }
   ],
   "source": [
    "r2_score(Y_test,predict)\n"
   ]
  },
  {
   "cell_type": "code",
   "execution_count": 47,
   "id": "6fe3c8ef",
   "metadata": {},
   "outputs": [],
   "source": [
    "from sklearn import metrics"
   ]
  },
  {
   "cell_type": "code",
   "execution_count": 61,
   "id": "cdb832d9",
   "metadata": {},
   "outputs": [
    {
     "name": "stdout",
     "output_type": "stream",
     "text": [
      "Mean Absolute Error is:0.794\n",
      "Mean Squared Error is:0.88\n",
      "Root Mean Squared Error is:0.866634\n"
     ]
    }
   ],
   "source": [
    "print(\"Mean Absolute Error is:\",metrics.mean_absolute_error(Y_test,predict))\n",
    "print(\"Mean Squared Error is:\",metrics.mean_squared_error(Y_test,predict))\n",
    "print(\"Root Mean Squared Error is:\",np.sqrt(metrics.mean_squared_error(Y_test,predict)))\n"
   ]
  },
  {
   "cell_type": "code",
   "execution_count": 49,
   "id": "07cf74cf",
   "metadata": {},
   "outputs": [],
   "source": [
    "#KNN Regressor"
   ]
  },
  {
   "cell_type": "code",
   "execution_count": 66,
   "id": "e18ec7f2",
   "metadata": {},
   "outputs": [
    {
     "name": "stdout",
     "output_type": "stream",
     "text": [
      "RMSE value for k= 1 is: 17731313.790285148\n",
      "RMSE value for k= 2 is: 20515420.38173425\n",
      "RMSE value for k= 3 is: 16704816.486649882\n",
      "RMSE value for k= 4 is: 15351823.573935388\n",
      "RMSE value for k= 5 is: 13695159.13794222\n",
      "RMSE value for k= 6 is: 13029202.120333282\n",
      "RMSE value for k= 7 is: 13881474.68356813\n",
      "RMSE value for k= 8 is: 13733403.048649818\n",
      "RMSE value for k= 9 is: 12826186.639931828\n",
      "RMSE value for k= 10 is: 12399981.36664208\n",
      "RMSE value for k= 11 is: 11779819.059614738\n",
      "RMSE value for k= 12 is: 11202973.251644228\n",
      "RMSE value for k= 13 is: 10744725.106644845\n",
      "RMSE value for k= 14 is: 10511079.531372253\n",
      "RMSE value for k= 15 is: 10552515.143931113\n",
      "RMSE value for k= 16 is: 10263399.739569947\n",
      "RMSE value for k= 17 is: 9990866.142117988\n",
      "RMSE value for k= 18 is: 9747098.47857233\n",
      "RMSE value for k= 19 is: 9725322.26265914\n",
      "RMSE value for k= 20 is: 9498000.530962246\n",
      "RMSE value for k= 21 is: 9349353.254501779\n",
      "RMSE value for k= 22 is: 9451610.743018474\n",
      "RMSE value for k= 23 is: 9376271.383789329\n",
      "RMSE value for k= 24 is: 9231567.753750006\n",
      "RMSE value for k= 25 is: 9155285.902458828\n",
      "RMSE value for k= 26 is: 9259671.819989342\n",
      "RMSE value for k= 27 is: 9150984.965353807\n",
      "RMSE value for k= 28 is: 9198471.22821957\n",
      "RMSE value for k= 29 is: 9073380.69315598\n",
      "RMSE value for k= 30 is: 8948832.020127082\n",
      "RMSE value for k= 31 is: 8859519.005678939\n",
      "RMSE value for k= 32 is: 8767372.498640953\n",
      "RMSE value for k= 33 is: 8743483.585378986\n",
      "RMSE value for k= 34 is: 8850396.52873373\n",
      "RMSE value for k= 35 is: 8794200.683274893\n",
      "RMSE value for k= 36 is: 8726107.814553075\n",
      "RMSE value for k= 37 is: 8662634.546262719\n",
      "RMSE value for k= 38 is: 8697723.965799455\n",
      "RMSE value for k= 39 is: 8638599.233328834\n",
      "RMSE value for k= 40 is: 8575601.752803678\n",
      "RMSE value for k= 41 is: 8527796.772904294\n",
      "RMSE value for k= 42 is: 8467735.964767113\n",
      "RMSE value for k= 43 is: 8440516.044680301\n",
      "RMSE value for k= 44 is: 8416362.245070066\n",
      "RMSE value for k= 45 is: 8360249.0902057355\n",
      "RMSE value for k= 46 is: 8309197.084737595\n",
      "RMSE value for k= 47 is: 8253201.842435179\n",
      "RMSE value for k= 48 is: 8237637.191302641\n",
      "RMSE value for k= 49 is: 8196577.915233921\n",
      "RMSE value for k= 50 is: 8160978.189874193\n"
     ]
    }
   ],
   "source": [
    "for K in range(50):\n",
    "    K=K+1\n",
    "    model=neighbors.KNeighborsRegressor(n_neighbors=K)\n",
    "    model.fit(X_train,Y_train)\n",
    "    pred=model.predict(X_test)\n",
    "    error=sqrt(mean_squared_error(Y_test,pred))\n",
    "    rmse_value.append(error)\n",
    "    print('RMSE value for k=', K, 'is:',error)\n",
    "    "
   ]
  },
  {
   "cell_type": "code",
   "execution_count": 67,
   "id": "290c6e89",
   "metadata": {},
   "outputs": [],
   "source": [
    "#Plotting the rmse value against the k values"
   ]
  },
  {
   "cell_type": "code",
   "execution_count": 68,
   "id": "b267b8e9",
   "metadata": {},
   "outputs": [],
   "source": [
    "curve=pd.DataFrame(rmse_value)"
   ]
  },
  {
   "cell_type": "code",
   "execution_count": 69,
   "id": "20d75454",
   "metadata": {},
   "outputs": [
    {
     "data": {
      "text/plain": [
       "<AxesSubplot:>"
      ]
     },
     "execution_count": 69,
     "metadata": {},
     "output_type": "execute_result"
    },
    {
     "data": {
      "image/png": "[encoded data removed]",
      "text/plain": [
       "<Figure size 432x288 with 1 Axes>"
      ]
     },
     "metadata": {
      "needs_background": "light"
     },
     "output_type": "display_data"
    }
   ],
   "source": [
    "curve.plot()"
   ]
  },
  {
   "cell_type": "code",
   "execution_count": 70,
   "id": "5b9bacc0",
   "metadata": {},
   "outputs": [],
   "source": [
    "from sklearn.neighbors import KNeighborsRegressor\n",
    "knn_model=KNeighborsRegressor(n_neighbors=50)"
   ]
  },
  {
   "cell_type": "code",
   "execution_count": 71,
   "id": "99d323be",
   "metadata": {},
   "outputs": [],
   "source": [
    "from sklearn.metrics import mean_squared_error\n",
    "from math import sqrt"
   ]
  },
  {
   "cell_type": "code",
   "execution_count": 72,
   "id": "31054553",
   "metadata": {},
   "outputs": [
    {
     "data": {
      "text/plain": [
       "KNeighborsRegressor(n_neighbors=50)"
      ]
     },
     "execution_count": 72,
     "metadata": {},
     "output_type": "execute_result"
    }
   ],
   "source": [
    "knn_model.fit(X_train,Y_train)"
   ]
  },
  {
   "cell_type": "code",
   "execution_count": 73,
   "id": "6ad2881d",
   "metadata": {},
   "outputs": [
    {
     "data": {
      "text/plain": [
       "24817322.57004813"
      ]
     },
     "execution_count": 73,
     "metadata": {},
     "output_type": "execute_result"
    }
   ],
   "source": [
    "train_preds=knn_model.predict(X_train)\n",
    "mse=mean_squared_error(Y_train,train_preds)\n",
    "rmse=sqrt(mse)\n",
    "rmse"
   ]
  },
  {
   "cell_type": "code",
   "execution_count": 74,
   "id": "0a35a9e5",
   "metadata": {},
   "outputs": [
    {
     "data": {
      "text/plain": [
       "8160978.189874193"
      ]
     },
     "execution_count": 74,
     "metadata": {},
     "output_type": "execute_result"
    }
   ],
   "source": [
    "test_preds=knn_model.predict(X_test)\n",
    "mse=mean_squared_error(Y_test,test_preds)\n",
    "rmse=sqrt(mse)\n",
    "rmse"
   ]
  },
  {
   "cell_type": "code",
   "execution_count": 75,
   "id": "a95ae078",
   "metadata": {},
   "outputs": [],
   "source": [
    "#Predicting the test dataset"
   ]
  },
  {
   "cell_type": "code",
   "execution_count": 76,
   "id": "8c496ee3",
   "metadata": {},
   "outputs": [],
   "source": [
    "predict1=model.predict(X_test)"
   ]
  },
  {
   "cell_type": "code",
   "execution_count": 77,
   "id": "21bfb794",
   "metadata": {},
   "outputs": [
    {
     "data": {
      "text/plain": [
       "array([1.03583700e+05, 9.65896282e+06, 1.03424680e+05, ...,\n",
       "       2.24284292e+06, 1.69063280e+05, 2.60000000e+01])"
      ]
     },
     "execution_count": 77,
     "metadata": {},
     "output_type": "execute_result"
    }
   ],
   "source": [
    "predict1"
   ]
  },
  {
   "cell_type": "code",
   "execution_count": 66,
   "id": "62ba0c8d",
   "metadata": {},
   "outputs": [
    {
     "name": "stdout",
     "output_type": "stream",
     "text": [
      "Mean Absolute Error is:0.555521\n",
      "Mean Squared Error is:0.56783\n",
      "Root Mean Squared Error:0.7555\n"
     ]
    }
   ],
   "source": [
    "print(\"Mean Absolute Error is:\",metrics.mean_absolute_error(Y_test,predict1))\n",
    "print(\"Mean Squared Error is:\",metrics.mean_squared_error(Y_test,predict1))\n",
    "print(\"Root Mean Squared Error is:\",np.sqrt(metrics.mean_squared_error(Y_test,predict1)))"
   ]
  },
  {
   "cell_type": "code",
   "execution_count": 79,
   "id": "d2a4d6fc",
   "metadata": {},
   "outputs": [],
   "source": [
    "from sklearn.metrics import mean_squared_error, r2_score"
   ]
  },
  {
   "cell_type": "code",
   "execution_count": 62,
   "id": "a9c540c5",
   "metadata": {},
   "outputs": [
    {
     "name": "stdout",
     "output_type": "stream",
     "text": [
      "0.553478421\n"
     ]
    }
   ],
   "source": [
    "r2_score(Y_test,predict1)\n"
   ]
  },
  {
   "cell_type": "code",
   "execution_count": 81,
   "id": "7e562ef7",
   "metadata": {},
   "outputs": [],
   "source": [
    "#Tuning And Optimization of KNN Algorithm"
   ]
  },
  {
   "cell_type": "code",
   "execution_count": 82,
   "id": "d1b0c5e0",
   "metadata": {},
   "outputs": [],
   "source": [
    "#GridsearchCV to find the best value of k"
   ]
  },
  {
   "cell_type": "code",
   "execution_count": 83,
   "id": "cce8d488",
   "metadata": {},
   "outputs": [],
   "source": [
    "from sklearn.model_selection import GridSearchCV\n",
    "from sklearn.neighbors import KNeighborsRegressor"
   ]
  },
  {
   "cell_type": "code",
   "execution_count": 84,
   "id": "8e8f39c1",
   "metadata": {},
   "outputs": [
    {
     "data": {
      "text/plain": [
       "GridSearchCV(estimator=KNeighborsRegressor(),\n",
       "             param_grid={'n_neighbors': range(1, 50)})"
      ]
     },
     "execution_count": 84,
     "metadata": {},
     "output_type": "execute_result"
    }
   ],
   "source": [
    "parameters={\"n_neighbors\":range(1,50)}\n",
    "gridsearch=GridSearchCV(KNeighborsRegressor(),parameters)\n",
    "gridsearch.fit(X_train,Y_train)"
   ]
  },
  {
   "cell_type": "code",
   "execution_count": 85,
   "id": "a0710e16",
   "metadata": {},
   "outputs": [
    {
     "name": "stdout",
     "output_type": "stream",
     "text": [
      "{'n_neighbors': 44}\n"
     ]
    }
   ],
   "source": [
    "print(gridsearch.best_params_)"
   ]
  },
  {
   "cell_type": "code",
   "execution_count": 86,
   "id": "b50ae615",
   "metadata": {},
   "outputs": [],
   "source": [
    "train_preds_grid=gridsearch.predict(X_train)\n",
    "train_mse=mean_squared_error(Y_train,train_preds_grid)\n",
    "train_rmse=sqrt(train_mse)\n",
    "test_pred_grid=gridsearch.predict(X_test)\n",
    "test_mse=mean_squared_error(Y_test,test_pred_grid)\n",
    "test_rmse=sqrt(test_mse)"
   ]
  },
  {
   "cell_type": "code",
   "execution_count": 87,
   "id": "8e9930cd",
   "metadata": {},
   "outputs": [],
   "source": [
    "train_mse=mean_squared_error(Y_train,train_preds_grid)\n",
    "test_mse=mean_squared_error(Y_test,test_pred_grid)\n",
    "train_rmse=sqrt(train_mse)\n",
    "test_rmse=sqrt(test_mse)"
   ]
  },
  {
   "cell_type": "code",
   "execution_count": 88,
   "id": "014f9a37",
   "metadata": {},
   "outputs": [
    {
     "name": "stdout",
     "output_type": "stream",
     "text": [
      "The Root Mean Squared Value for the training dataset is: 24758828.495347213\n"
     ]
    }
   ],
   "source": [
    "print(\"The Root Mean Squared Value for the training dataset is:\",train_rmse)"
   ]
  },
  {
   "cell_type": "code",
   "execution_count": 89,
   "id": "8ac90fee",
   "metadata": {},
   "outputs": [
    {
     "name": "stdout",
     "output_type": "stream",
     "text": [
      "The Root Mean Squared Value for the test dataset is: 8416362.245070066\n"
     ]
    }
   ],
   "source": [
    "print(\"The Root Mean Squared Value for the test dataset is:\",test_rmse)"
   ]
  },
  {
   "cell_type": "code",
   "execution_count": 90,
   "id": "82111434",
   "metadata": {},
   "outputs": [],
   "source": [
    "#Validation "
   ]
  },
  {
   "cell_type": "code",
   "execution_count": 51,
   "id": "53ae500f",
   "metadata": {},
   "outputs": [],
   "source": [
    "from sklearn.model_selection import KFold\n",
    "from sklearn.model_selection import cross_val_score\n",
    "from sklearn.linear_model import LinearRegression\n",
    "from numpy import mean\n",
    "from numpy import absolute"
   ]
  },
  {
   "cell_type": "code",
   "execution_count": 52,
   "id": "1e7cc1c2",
   "metadata": {},
   "outputs": [],
   "source": [
    "X_validation=dataset.drop(labels=[\"State_Name\",\"Production\",\"Crop_Year\"],axis=1)\n",
    "Y_validation=dataset['Production']"
   ]
  },
  {
   "cell_type": "code",
   "execution_count": 53,
   "id": "33e6123f",
   "metadata": {},
   "outputs": [],
   "source": [
    "cv = KFold(n_splits=10, random_state=1, shuffle=True)"
   ]
  },
  {
   "cell_type": "code",
   "execution_count": 54,
   "id": "6cd3ca7b",
   "metadata": {},
   "outputs": [],
   "source": [
    "model = LinearRegression()\n"
   ]
  },
  {
   "cell_type": "code",
   "execution_count": 55,
   "id": "8062abff",
   "metadata": {},
   "outputs": [],
   "source": [
    "scores = cross_val_score(model, X_validation, Y_validation, scoring='neg_mean_absolute_error',\n",
    "                         cv=cv, n_jobs=-1)"
   ]
  },
  {
   "cell_type": "code",
   "execution_count": 57,
   "id": "d84bb051",
   "metadata": {},
   "outputs": [
    {
     "data": {
      "text/plain": [
       "array([-2015092.79824168, -1698607.02909775, -2946238.79347715,\n",
       "       -1789298.75796605, -2109135.66005478, -1934455.02633001,\n",
       "       -2037077.0375827 , -2613593.7450117 , -1508852.7641896 ,\n",
       "       -2143161.58432656])"
      ]
     },
     "execution_count": 57,
     "metadata": {},
     "output_type": "execute_result"
    }
   ],
   "source": [
    "scores"
   ]
  },
  {
   "cell_type": "code",
   "execution_count": 56,
   "id": "1ed77c25",
   "metadata": {},
   "outputs": [
    {
     "data": {
      "text/plain": [
       "2079551.3196277977"
      ]
     },
     "execution_count": 56,
     "metadata": {},
     "output_type": "execute_result"
    }
   ],
   "source": [
    "mean(absolute(scores))"
   ]
  }
 ],
 "metadata": {
  "kernelspec": {
   "display_name": "Python 3 (ipykernel)",
   "language": "python",
   "name": "python3"
  },
  "language_info": {
   "codemirror_mode": {
    "name": "ipython",
    "version": 3
   },
   "file_extension": ".py",
   "mimetype": "text/x-python",
   "name": "python",
   "nbconvert_exporter": "python",
   "pygments_lexer": "ipython3",
   "version": "3.9.7"
  }
 },
 "nbformat": 4,
 "nbformat_minor": 5
}
